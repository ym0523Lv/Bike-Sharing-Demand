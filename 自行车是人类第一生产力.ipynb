{
 "cells": [
  {
   "cell_type": "markdown",
   "id": "83e7b4a8",
   "metadata": {},
   "source": [
    "# 预测城市自行车共享系统的使用情况"
   ]
  },
  {
   "cell_type": "markdown",
   "id": "549f642d",
   "metadata": {},
   "source": [
    "&emsp;&emsp;共享单车系统是一种自行车租赁方式，通过遍布城市的自助服务亭网络自动完成获取会员资格、租赁和归还自行车的过程。使用这些系统，人们可以根据需要在某个地方租用自行车，然后将其归还到另一个地方。目前，全球有 500 多个共享单车项目。\n",
    "\n",
    "&emsp;&emsp;这些系统生成的数据对研究人员很有吸引力，因为出行时间、出发地点、到达地点和所用时间都被明确记录下来。因此，共享单车系统充当传感器网络，可用于研究城市的流动性。在本次比赛中，参赛者需要将历史使用模式与天气数据结合起来，以预测华盛顿特区 Capital Bikeshare 计划中的自行车租赁需求"
   ]
  },
  {
   "cell_type": "markdown",
   "id": "de8aef81",
   "metadata": {},
   "source": [
    "![](data_describe.png)"
   ]
  },
  {
   "cell_type": "code",
   "execution_count": 358,
   "id": "602c7a21",
   "metadata": {},
   "outputs": [],
   "source": [
    "import numpy as np\n",
    "import pandas as pd\n",
    "from sklearn.ensemble import RandomForestRegressor\n",
    "from sklearn.model_selection import cross_val_score, KFold\n",
    "from sklearn.model_selection import train_test_split, GridSearchCV\n",
    "from sklearn.metrics import make_scorer\n",
    "from sklearn.metrics import mean_squared_error\n",
    "from sklearn.preprocessing import StandardScaler, MinMaxScaler\n",
    "\n",
    "pd.set_option('display.max_columns', None)\n",
    "pd.set_option('display.max_colwidth', None)"
   ]
  },
  {
   "cell_type": "markdown",
   "id": "7d8221f1",
   "metadata": {},
   "source": [
    "## 1 数据预处理"
   ]
  },
  {
   "cell_type": "markdown",
   "id": "ab92523a",
   "metadata": {},
   "source": [
    "### 1.1 读取数据"
   ]
  },
  {
   "cell_type": "code",
   "execution_count": 320,
   "id": "597a3a5e",
   "metadata": {},
   "outputs": [],
   "source": [
    "train = pd.read_csv(\"train.csv\")\n",
    "result_features = pd.read_csv(\"test.csv\")\n",
    "sampleSubmission = pd.read_csv(\"sampleSubmission.csv\")"
   ]
  },
  {
   "cell_type": "code",
   "execution_count": 359,
   "id": "ae31305c",
   "metadata": {},
   "outputs": [
    {
     "name": "stdout",
     "output_type": "stream",
     "text": [
      "温度的0： 7\n",
      "体感温度的0： 2\n",
      "湿度的0： 0\n",
      "风力的0： 767\n"
     ]
    }
   ],
   "source": [
    "print(\"温度的0：\",len(train[train['temp']==0]))\n",
    "print(\"体感温度的0：\",len(train[train['atemp']==0]))\n",
    "print(\"湿度的0：\",len(train[train['humidity']==0]))\n",
    "print(\"风力的0：\",len(train[train['windspeed']==0]))"
   ]
  },
  {
   "cell_type": "code",
   "execution_count": 360,
   "id": "a0494962",
   "metadata": {},
   "outputs": [
    {
     "data": {
      "text/html": [
       "<div>\n",
       "<style scoped>\n",
       "    .dataframe tbody tr th:only-of-type {\n",
       "        vertical-align: middle;\n",
       "    }\n",
       "\n",
       "    .dataframe tbody tr th {\n",
       "        vertical-align: top;\n",
       "    }\n",
       "\n",
       "    .dataframe thead th {\n",
       "        text-align: right;\n",
       "    }\n",
       "</style>\n",
       "<table border=\"1\" class=\"dataframe\">\n",
       "  <thead>\n",
       "    <tr style=\"text-align: right;\">\n",
       "      <th></th>\n",
       "      <th>holiday</th>\n",
       "      <th>workingday</th>\n",
       "      <th>weather</th>\n",
       "      <th>temp</th>\n",
       "      <th>atemp</th>\n",
       "      <th>humidity</th>\n",
       "      <th>windspeed</th>\n",
       "      <th>casual</th>\n",
       "      <th>registered</th>\n",
       "      <th>count</th>\n",
       "      <th>season_spring</th>\n",
       "      <th>season_summer</th>\n",
       "      <th>season_autumn</th>\n",
       "      <th>season_winter</th>\n",
       "      <th>hour</th>\n",
       "      <th>year</th>\n",
       "      <th>Monday</th>\n",
       "      <th>Tuesday</th>\n",
       "      <th>Wednesday</th>\n",
       "      <th>Thursday</th>\n",
       "      <th>Friday</th>\n",
       "      <th>Saturday</th>\n",
       "      <th>Sunday</th>\n",
       "    </tr>\n",
       "  </thead>\n",
       "  <tbody>\n",
       "    <tr>\n",
       "      <th>0</th>\n",
       "      <td>0</td>\n",
       "      <td>0</td>\n",
       "      <td>1</td>\n",
       "      <td>0.224490</td>\n",
       "      <td>0.305068</td>\n",
       "      <td>0.81</td>\n",
       "      <td>0.056650</td>\n",
       "      <td>3</td>\n",
       "      <td>13</td>\n",
       "      <td>16</td>\n",
       "      <td>1</td>\n",
       "      <td>0</td>\n",
       "      <td>0</td>\n",
       "      <td>0</td>\n",
       "      <td>0</td>\n",
       "      <td>2011</td>\n",
       "      <td>0</td>\n",
       "      <td>0</td>\n",
       "      <td>0</td>\n",
       "      <td>0</td>\n",
       "      <td>0</td>\n",
       "      <td>1</td>\n",
       "      <td>0</td>\n",
       "    </tr>\n",
       "    <tr>\n",
       "      <th>1</th>\n",
       "      <td>0</td>\n",
       "      <td>0</td>\n",
       "      <td>1</td>\n",
       "      <td>0.204082</td>\n",
       "      <td>0.288064</td>\n",
       "      <td>0.80</td>\n",
       "      <td>0.063316</td>\n",
       "      <td>8</td>\n",
       "      <td>32</td>\n",
       "      <td>40</td>\n",
       "      <td>1</td>\n",
       "      <td>0</td>\n",
       "      <td>0</td>\n",
       "      <td>0</td>\n",
       "      <td>1</td>\n",
       "      <td>2011</td>\n",
       "      <td>0</td>\n",
       "      <td>0</td>\n",
       "      <td>0</td>\n",
       "      <td>0</td>\n",
       "      <td>0</td>\n",
       "      <td>1</td>\n",
       "      <td>0</td>\n",
       "    </tr>\n",
       "    <tr>\n",
       "      <th>2</th>\n",
       "      <td>0</td>\n",
       "      <td>0</td>\n",
       "      <td>1</td>\n",
       "      <td>0.204082</td>\n",
       "      <td>0.288064</td>\n",
       "      <td>0.80</td>\n",
       "      <td>0.061945</td>\n",
       "      <td>5</td>\n",
       "      <td>27</td>\n",
       "      <td>32</td>\n",
       "      <td>1</td>\n",
       "      <td>0</td>\n",
       "      <td>0</td>\n",
       "      <td>0</td>\n",
       "      <td>2</td>\n",
       "      <td>2011</td>\n",
       "      <td>0</td>\n",
       "      <td>0</td>\n",
       "      <td>0</td>\n",
       "      <td>0</td>\n",
       "      <td>0</td>\n",
       "      <td>1</td>\n",
       "      <td>0</td>\n",
       "    </tr>\n",
       "    <tr>\n",
       "      <th>3</th>\n",
       "      <td>0</td>\n",
       "      <td>0</td>\n",
       "      <td>1</td>\n",
       "      <td>0.224490</td>\n",
       "      <td>0.305068</td>\n",
       "      <td>0.75</td>\n",
       "      <td>0.063126</td>\n",
       "      <td>3</td>\n",
       "      <td>10</td>\n",
       "      <td>13</td>\n",
       "      <td>1</td>\n",
       "      <td>0</td>\n",
       "      <td>0</td>\n",
       "      <td>0</td>\n",
       "      <td>3</td>\n",
       "      <td>2011</td>\n",
       "      <td>0</td>\n",
       "      <td>0</td>\n",
       "      <td>0</td>\n",
       "      <td>0</td>\n",
       "      <td>0</td>\n",
       "      <td>1</td>\n",
       "      <td>0</td>\n",
       "    </tr>\n",
       "    <tr>\n",
       "      <th>4</th>\n",
       "      <td>0</td>\n",
       "      <td>0</td>\n",
       "      <td>1</td>\n",
       "      <td>0.224490</td>\n",
       "      <td>0.305068</td>\n",
       "      <td>0.75</td>\n",
       "      <td>0.061948</td>\n",
       "      <td>0</td>\n",
       "      <td>1</td>\n",
       "      <td>1</td>\n",
       "      <td>1</td>\n",
       "      <td>0</td>\n",
       "      <td>0</td>\n",
       "      <td>0</td>\n",
       "      <td>4</td>\n",
       "      <td>2011</td>\n",
       "      <td>0</td>\n",
       "      <td>0</td>\n",
       "      <td>0</td>\n",
       "      <td>0</td>\n",
       "      <td>0</td>\n",
       "      <td>1</td>\n",
       "      <td>0</td>\n",
       "    </tr>\n",
       "  </tbody>\n",
       "</table>\n",
       "</div>"
      ],
      "text/plain": [
       "   holiday  workingday  weather      temp     atemp  humidity  windspeed  \\\n",
       "0        0           0        1  0.224490  0.305068      0.81   0.056650   \n",
       "1        0           0        1  0.204082  0.288064      0.80   0.063316   \n",
       "2        0           0        1  0.204082  0.288064      0.80   0.061945   \n",
       "3        0           0        1  0.224490  0.305068      0.75   0.063126   \n",
       "4        0           0        1  0.224490  0.305068      0.75   0.061948   \n",
       "\n",
       "   casual  registered  count  season_spring  season_summer  season_autumn  \\\n",
       "0       3          13     16              1              0              0   \n",
       "1       8          32     40              1              0              0   \n",
       "2       5          27     32              1              0              0   \n",
       "3       3          10     13              1              0              0   \n",
       "4       0           1      1              1              0              0   \n",
       "\n",
       "   season_winter  hour  year  Monday  Tuesday  Wednesday  Thursday  Friday  \\\n",
       "0              0     0  2011       0        0          0         0       0   \n",
       "1              0     1  2011       0        0          0         0       0   \n",
       "2              0     2  2011       0        0          0         0       0   \n",
       "3              0     3  2011       0        0          0         0       0   \n",
       "4              0     4  2011       0        0          0         0       0   \n",
       "\n",
       "   Saturday  Sunday  \n",
       "0         1       0  \n",
       "1         1       0  \n",
       "2         1       0  \n",
       "3         1       0  \n",
       "4         1       0  "
      ]
     },
     "execution_count": 360,
     "metadata": {},
     "output_type": "execute_result"
    }
   ],
   "source": [
    "train.head()"
   ]
  },
  {
   "cell_type": "code",
   "execution_count": 322,
   "id": "405a9448",
   "metadata": {},
   "outputs": [],
   "source": [
    "# one-hot一下\n",
    "train = pd.get_dummies(train, prefix='season', columns=['season'])\n",
    "result_features = pd.get_dummies(result_features, prefix='season', columns=['season'])\n",
    "# 改个名\n",
    "train = train.rename(columns={'season_1':'season_spring', 'season_2':'season_summer', 'season_3':'season_autumn', 'season_4':'season_winter'})\n",
    "result_features = result_features.rename(columns={'season_1':'season_spring', 'season_2':'season_summer', 'season_3':'season_autumn', 'season_4':'season_winter'})"
   ]
  },
  {
   "cell_type": "code",
   "execution_count": 323,
   "id": "3478f927",
   "metadata": {},
   "outputs": [],
   "source": [
    "# 看一下\n",
    "#train.head()"
   ]
  },
  {
   "cell_type": "markdown",
   "id": "0e59c827",
   "metadata": {},
   "source": [
    "### 1.2数据处理"
   ]
  },
  {
   "cell_type": "markdown",
   "id": "b622ec6e",
   "metadata": {},
   "source": [
    "#### ~~1.2.1 删掉两列没什么影响的标签（会员和非会员）~~\n",
    "#### 1.2.1 这两列删不得\n",
    "我们需要对把这两个标签再摘出来，对这两个标签分别做预测，然后加起来就是我们要的count"
   ]
  },
  {
   "cell_type": "code",
   "execution_count": 324,
   "id": "ffed07c0",
   "metadata": {},
   "outputs": [],
   "source": [
    "#train_features = train_features.drop(columns=['casual','registered'])\n",
    "#train_features.head()\n",
    "#test.head()"
   ]
  },
  {
   "cell_type": "markdown",
   "id": "1fc95d7f",
   "metadata": {},
   "source": [
    "#### 1.2.2 对季节做独热编码"
   ]
  },
  {
   "cell_type": "markdown",
   "id": "1b6555f6",
   "metadata": {},
   "source": [
    "本来打算把天气也处理了，但是想想觉得天气的1-4可以代表天气的恶劣程度，于是不做处理。"
   ]
  },
  {
   "cell_type": "markdown",
   "id": "c99450cd",
   "metadata": {},
   "source": [
    "#### 1.2.3 日期处理"
   ]
  },
  {
   "cell_type": "code",
   "execution_count": 325,
   "id": "d6d85b58",
   "metadata": {},
   "outputs": [],
   "source": [
    "train['datetime'] = pd.to_datetime(train['datetime'])\n",
    "result_features['datetime'] = pd.to_datetime(result_features['datetime'])\n",
    "# 提取时段\n",
    "train['hour'] = train['datetime'].dt.hour\n",
    "result_features['hour'] = result_features['datetime'].dt.hour\n",
    "# 提取年份\n",
    "train['year'] = train['datetime'].dt.year\n",
    "result_features['year'] = result_features['datetime'].dt.year\n",
    "# 提取月份\n",
    "#train['month'] = train['datetime'].dt.month\n",
    "#result_features['month'] = result_features['datetime'].dt.month\n",
    "# 提取天\n",
    "train['day'] = train['datetime'].dt.day\n",
    "result_features['day'] = result_features['datetime'].dt.day\n",
    "# 提取星期几（0=周一, 6=周日）\n",
    "train['weekday'] = train['datetime'].dt.weekday\n",
    "result_features['weekday'] = result_features['datetime'].dt.weekday"
   ]
  },
  {
   "cell_type": "markdown",
   "id": "e7954b07",
   "metadata": {},
   "source": [
    "接下来删掉datetime，因为有用的东西已经提出来了。"
   ]
  },
  {
   "cell_type": "code",
   "execution_count": 326,
   "id": "1544a9fc",
   "metadata": {},
   "outputs": [],
   "source": [
    "train = train.drop(columns=['datetime'])\n",
    "result_features = result_features.drop(columns=['datetime'])"
   ]
  },
  {
   "cell_type": "code",
   "execution_count": 327,
   "id": "bdd91375",
   "metadata": {},
   "outputs": [],
   "source": [
    "# 看看\n",
    "#train.head()"
   ]
  },
  {
   "cell_type": "markdown",
   "id": "2f155d70",
   "metadata": {},
   "source": [
    "对星期几做一个独热编码，因为这个特征其实是一个离散的东西"
   ]
  },
  {
   "cell_type": "code",
   "execution_count": 328,
   "id": "f5bfd782",
   "metadata": {},
   "outputs": [],
   "source": [
    "# 再one-hot一下\n",
    "train = pd.get_dummies(train, prefix='weekday', columns=['weekday'])\n",
    "result_features = pd.get_dummies(result_features, prefix='weekday', columns=['weekday'])\n",
    "# 改个名\n",
    "train = train.rename(columns={'weekday_0':'Monday', 'weekday_1':'Tuesday', 'weekday_2':'Wednesday', 'weekday_3':'Thursday', 'weekday_4':'Friday', 'weekday_5':'Saturday', 'weekday_6':'Sunday'})\n",
    "result_features = result_features.rename(columns={'weekday_0':'Monday', 'weekday_1':'Tuesday', 'weekday_2':'Wednesday', 'weekday_3':'Thursday', 'weekday_4':'Friday', 'weekday_5':'Saturday', 'weekday_6':'Sunday'})"
   ]
  },
  {
   "cell_type": "markdown",
   "id": "997c02c4",
   "metadata": {},
   "source": [
    "#### 1.2.3 ~~标准化，~~归一化"
   ]
  },
  {
   "cell_type": "code",
   "execution_count": 329,
   "id": "19092923",
   "metadata": {},
   "outputs": [],
   "source": [
    "features_to_scale = ['temp', 'atemp', 'humidity']"
   ]
  },
  {
   "cell_type": "code",
   "execution_count": 330,
   "id": "e42b39ae",
   "metadata": {},
   "outputs": [],
   "source": [
    "#scaler = StandardScaler()\n",
    "#train[features_to_scale] = scaler.fit_transform(train[features_to_scale])\n",
    "#result_features[features_to_scale] = scaler.fit_transform(result_features[features_to_scale])"
   ]
  },
  {
   "cell_type": "code",
   "execution_count": 331,
   "id": "ca049d0d",
   "metadata": {},
   "outputs": [],
   "source": [
    "normalizer = MinMaxScaler()\n",
    "train[features_to_scale] = normalizer.fit_transform(train[features_to_scale])\n",
    "result_features[features_to_scale] = normalizer.fit_transform(result_features[features_to_scale])"
   ]
  },
  {
   "cell_type": "markdown",
   "id": "362841cf",
   "metadata": {},
   "source": [
    "#### 1.2.4 补全风速的缺省值"
   ]
  },
  {
   "cell_type": "code",
   "execution_count": 332,
   "id": "d11058e4",
   "metadata": {},
   "outputs": [],
   "source": [
    "zero_windspeed = train[train['windspeed'] == 0].copy()\n",
    "non_zero_windspeed = train[train['windspeed'] != 0].copy()"
   ]
  },
  {
   "cell_type": "code",
   "execution_count": 333,
   "id": "2e70a565",
   "metadata": {},
   "outputs": [],
   "source": [
    "# 把风速一栏删去做标签\n",
    "X_wind_train = non_zero_windspeed.drop(columns=['windspeed','casual','registered','count'])\n",
    "y_wind_train = non_zero_windspeed['windspeed']\n",
    "X_wind_test = zero_windspeed.drop(columns=['windspeed','casual','registered','count'])"
   ]
  },
  {
   "cell_type": "code",
   "execution_count": 334,
   "id": "532d4d16",
   "metadata": {},
   "outputs": [],
   "source": [
    "rf_wind = RandomForestRegressor(random_state=713)\n",
    "# 训练\n",
    "rf_wind.fit(X_wind_train, y_wind_train)\n",
    "# 预测\n",
    "windspeed_pred_train = rf_wind.predict(X_wind_test)\n",
    "windspeed_pred_test = rf_wind.predict(result_features[result_features['windspeed'] == 0].drop(columns=['windspeed']))\n",
    "# 用预测值替换零值\n",
    "train.loc[train['windspeed'] == 0, 'windspeed'] = windspeed_pred_train\n",
    "result_features.loc[result_features['windspeed'] == 0, 'windspeed'] = windspeed_pred_test"
   ]
  },
  {
   "cell_type": "markdown",
   "id": "830923f2",
   "metadata": {},
   "source": [
    "对风速也做~~标准化和~~归一化"
   ]
  },
  {
   "cell_type": "code",
   "execution_count": 335,
   "id": "4994e94f",
   "metadata": {},
   "outputs": [],
   "source": [
    "#scaler = StandardScaler()\n",
    "#train[['windspeed']] = scaler.fit_transform(train[['windspeed']])\n",
    "#result_features[['windspeed']] = scaler.fit_transform(result_features[['windspeed']])"
   ]
  },
  {
   "cell_type": "code",
   "execution_count": 336,
   "id": "4e80020a",
   "metadata": {},
   "outputs": [],
   "source": [
    "normalizer = MinMaxScaler()\n",
    "train[['windspeed']] = normalizer.fit_transform(train[['windspeed']])\n",
    "result_features[['windspeed']] = normalizer.fit_transform(result_features[['windspeed']])"
   ]
  },
  {
   "cell_type": "markdown",
   "id": "a0bc4422",
   "metadata": {},
   "source": [
    "#### 数据处理结束，存csv里面"
   ]
  },
  {
   "cell_type": "code",
   "execution_count": 337,
   "id": "08985b01",
   "metadata": {},
   "outputs": [],
   "source": [
    "train.to_csv(\"train_new.csv\", index=False)\n",
    "result_features.to_csv(\"result_features.csv\", index=False)"
   ]
  },
  {
   "cell_type": "code",
   "execution_count": 338,
   "id": "92ad3c42",
   "metadata": {},
   "outputs": [
    {
     "data": {
      "text/html": [
       "<div>\n",
       "<style scoped>\n",
       "    .dataframe tbody tr th:only-of-type {\n",
       "        vertical-align: middle;\n",
       "    }\n",
       "\n",
       "    .dataframe tbody tr th {\n",
       "        vertical-align: top;\n",
       "    }\n",
       "\n",
       "    .dataframe thead th {\n",
       "        text-align: right;\n",
       "    }\n",
       "</style>\n",
       "<table border=\"1\" class=\"dataframe\">\n",
       "  <thead>\n",
       "    <tr style=\"text-align: right;\">\n",
       "      <th></th>\n",
       "      <th>holiday</th>\n",
       "      <th>workingday</th>\n",
       "      <th>weather</th>\n",
       "      <th>temp</th>\n",
       "      <th>atemp</th>\n",
       "      <th>humidity</th>\n",
       "      <th>windspeed</th>\n",
       "      <th>casual</th>\n",
       "      <th>registered</th>\n",
       "      <th>count</th>\n",
       "      <th>season_spring</th>\n",
       "      <th>season_summer</th>\n",
       "      <th>season_autumn</th>\n",
       "      <th>season_winter</th>\n",
       "      <th>hour</th>\n",
       "      <th>year</th>\n",
       "      <th>day</th>\n",
       "      <th>Monday</th>\n",
       "      <th>Tuesday</th>\n",
       "      <th>Wednesday</th>\n",
       "      <th>Thursday</th>\n",
       "      <th>Friday</th>\n",
       "      <th>Saturday</th>\n",
       "      <th>Sunday</th>\n",
       "    </tr>\n",
       "  </thead>\n",
       "  <tbody>\n",
       "    <tr>\n",
       "      <th>0</th>\n",
       "      <td>0</td>\n",
       "      <td>0</td>\n",
       "      <td>1</td>\n",
       "      <td>0.224490</td>\n",
       "      <td>0.305068</td>\n",
       "      <td>0.81</td>\n",
       "      <td>0.056650</td>\n",
       "      <td>3</td>\n",
       "      <td>13</td>\n",
       "      <td>16</td>\n",
       "      <td>1</td>\n",
       "      <td>0</td>\n",
       "      <td>0</td>\n",
       "      <td>0</td>\n",
       "      <td>0</td>\n",
       "      <td>2011</td>\n",
       "      <td>1</td>\n",
       "      <td>0</td>\n",
       "      <td>0</td>\n",
       "      <td>0</td>\n",
       "      <td>0</td>\n",
       "      <td>0</td>\n",
       "      <td>1</td>\n",
       "      <td>0</td>\n",
       "    </tr>\n",
       "    <tr>\n",
       "      <th>1</th>\n",
       "      <td>0</td>\n",
       "      <td>0</td>\n",
       "      <td>1</td>\n",
       "      <td>0.204082</td>\n",
       "      <td>0.288064</td>\n",
       "      <td>0.80</td>\n",
       "      <td>0.063316</td>\n",
       "      <td>8</td>\n",
       "      <td>32</td>\n",
       "      <td>40</td>\n",
       "      <td>1</td>\n",
       "      <td>0</td>\n",
       "      <td>0</td>\n",
       "      <td>0</td>\n",
       "      <td>1</td>\n",
       "      <td>2011</td>\n",
       "      <td>1</td>\n",
       "      <td>0</td>\n",
       "      <td>0</td>\n",
       "      <td>0</td>\n",
       "      <td>0</td>\n",
       "      <td>0</td>\n",
       "      <td>1</td>\n",
       "      <td>0</td>\n",
       "    </tr>\n",
       "    <tr>\n",
       "      <th>2</th>\n",
       "      <td>0</td>\n",
       "      <td>0</td>\n",
       "      <td>1</td>\n",
       "      <td>0.204082</td>\n",
       "      <td>0.288064</td>\n",
       "      <td>0.80</td>\n",
       "      <td>0.061945</td>\n",
       "      <td>5</td>\n",
       "      <td>27</td>\n",
       "      <td>32</td>\n",
       "      <td>1</td>\n",
       "      <td>0</td>\n",
       "      <td>0</td>\n",
       "      <td>0</td>\n",
       "      <td>2</td>\n",
       "      <td>2011</td>\n",
       "      <td>1</td>\n",
       "      <td>0</td>\n",
       "      <td>0</td>\n",
       "      <td>0</td>\n",
       "      <td>0</td>\n",
       "      <td>0</td>\n",
       "      <td>1</td>\n",
       "      <td>0</td>\n",
       "    </tr>\n",
       "    <tr>\n",
       "      <th>3</th>\n",
       "      <td>0</td>\n",
       "      <td>0</td>\n",
       "      <td>1</td>\n",
       "      <td>0.224490</td>\n",
       "      <td>0.305068</td>\n",
       "      <td>0.75</td>\n",
       "      <td>0.063126</td>\n",
       "      <td>3</td>\n",
       "      <td>10</td>\n",
       "      <td>13</td>\n",
       "      <td>1</td>\n",
       "      <td>0</td>\n",
       "      <td>0</td>\n",
       "      <td>0</td>\n",
       "      <td>3</td>\n",
       "      <td>2011</td>\n",
       "      <td>1</td>\n",
       "      <td>0</td>\n",
       "      <td>0</td>\n",
       "      <td>0</td>\n",
       "      <td>0</td>\n",
       "      <td>0</td>\n",
       "      <td>1</td>\n",
       "      <td>0</td>\n",
       "    </tr>\n",
       "    <tr>\n",
       "      <th>4</th>\n",
       "      <td>0</td>\n",
       "      <td>0</td>\n",
       "      <td>1</td>\n",
       "      <td>0.224490</td>\n",
       "      <td>0.305068</td>\n",
       "      <td>0.75</td>\n",
       "      <td>0.061948</td>\n",
       "      <td>0</td>\n",
       "      <td>1</td>\n",
       "      <td>1</td>\n",
       "      <td>1</td>\n",
       "      <td>0</td>\n",
       "      <td>0</td>\n",
       "      <td>0</td>\n",
       "      <td>4</td>\n",
       "      <td>2011</td>\n",
       "      <td>1</td>\n",
       "      <td>0</td>\n",
       "      <td>0</td>\n",
       "      <td>0</td>\n",
       "      <td>0</td>\n",
       "      <td>0</td>\n",
       "      <td>1</td>\n",
       "      <td>0</td>\n",
       "    </tr>\n",
       "  </tbody>\n",
       "</table>\n",
       "</div>"
      ],
      "text/plain": [
       "   holiday  workingday  weather      temp     atemp  humidity  windspeed  \\\n",
       "0        0           0        1  0.224490  0.305068      0.81   0.056650   \n",
       "1        0           0        1  0.204082  0.288064      0.80   0.063316   \n",
       "2        0           0        1  0.204082  0.288064      0.80   0.061945   \n",
       "3        0           0        1  0.224490  0.305068      0.75   0.063126   \n",
       "4        0           0        1  0.224490  0.305068      0.75   0.061948   \n",
       "\n",
       "   casual  registered  count  season_spring  season_summer  season_autumn  \\\n",
       "0       3          13     16              1              0              0   \n",
       "1       8          32     40              1              0              0   \n",
       "2       5          27     32              1              0              0   \n",
       "3       3          10     13              1              0              0   \n",
       "4       0           1      1              1              0              0   \n",
       "\n",
       "   season_winter  hour  year  day  Monday  Tuesday  Wednesday  Thursday  \\\n",
       "0              0     0  2011    1       0        0          0         0   \n",
       "1              0     1  2011    1       0        0          0         0   \n",
       "2              0     2  2011    1       0        0          0         0   \n",
       "3              0     3  2011    1       0        0          0         0   \n",
       "4              0     4  2011    1       0        0          0         0   \n",
       "\n",
       "   Friday  Saturday  Sunday  \n",
       "0       0         1       0  \n",
       "1       0         1       0  \n",
       "2       0         1       0  \n",
       "3       0         1       0  \n",
       "4       0         1       0  "
      ]
     },
     "execution_count": 338,
     "metadata": {},
     "output_type": "execute_result"
    }
   ],
   "source": [
    "train.head()"
   ]
  },
  {
   "cell_type": "markdown",
   "id": "7973ae2a",
   "metadata": {},
   "source": [
    "## 2 训练、预测、评估"
   ]
  },
  {
   "cell_type": "code",
   "execution_count": 339,
   "id": "f1008739",
   "metadata": {},
   "outputs": [],
   "source": [
    "#读一下存好的训练集，等等用来划分\n",
    "train_new = pd.read_csv(\"train_new.csv\")\n",
    "#train_new.info()\n",
    "train = train_new[train_new['day'].isin([1, 2, 3, 4, 5, 6, 7, 8, 9, 12, 13, 14, 15, 16, 17, 18, 19])]\n",
    "test = train_new[train_new['day'].isin([10, 11])]"
   ]
  },
  {
   "cell_type": "markdown",
   "id": "fcc545e6",
   "metadata": {},
   "source": [
    "删掉day"
   ]
  },
  {
   "cell_type": "code",
   "execution_count": 340,
   "id": "0f566b70",
   "metadata": {},
   "outputs": [],
   "source": [
    "train = train.drop(columns=['day'])\n",
    "test = test.drop(columns=['day'])\n",
    "result_features = result_features.drop(columns=['day'])"
   ]
  },
  {
   "cell_type": "code",
   "execution_count": 341,
   "id": "d95330a0",
   "metadata": {},
   "outputs": [],
   "source": [
    "# 拆数据集\n",
    "#X_train, X_test, y_train, y_test = train_test_split(train_features, train_labels, test_size=0.1, random_state=229003001)\n",
    "X_train = train.drop(columns=['casual', 'registered', 'count'])\n",
    "X_test = test.drop(columns=['casual', 'registered', 'count'])\n",
    "y_casual_train = train['casual']\n",
    "y_registered_train = train['registered']\n",
    "y_casual_test = test['casual']\n",
    "y_registered_test = test['registered']"
   ]
  },
  {
   "cell_type": "code",
   "execution_count": 342,
   "id": "8d6fd635",
   "metadata": {},
   "outputs": [
    {
     "data": {
      "text/plain": [
       "0    3\n",
       "1    8\n",
       "2    5\n",
       "3    3\n",
       "4    0\n",
       "Name: casual, dtype: int64"
      ]
     },
     "execution_count": 342,
     "metadata": {},
     "output_type": "execute_result"
    }
   ],
   "source": [
    "y_casual_train.head()"
   ]
  },
  {
   "cell_type": "markdown",
   "id": "c583c0fb",
   "metadata": {},
   "source": [
    "这里要做一个自定义评估函数RMSLE"
   ]
  },
  {
   "cell_type": "code",
   "execution_count": 343,
   "id": "2db8a73f",
   "metadata": {},
   "outputs": [],
   "source": [
    "def rmsle(y_true, y_pred):\n",
    "    assert len(y_true) == len(y_pred), \"Length of y_true and y_pred must be the same.\"\n",
    "    y_true = np.clip(y_true, a_min=0, a_max=None)\n",
    "    y_pred = np.clip(y_pred, a_min=0, a_max=None)\n",
    "    rmsle = np.sqrt(np.mean((np.log1p(y_pred) - np.log1p(y_true))**2))  \n",
    "    return rmsle"
   ]
  },
  {
   "cell_type": "markdown",
   "id": "cdefcf70",
   "metadata": {},
   "source": [
    "### 2.1 随机森林"
   ]
  },
  {
   "cell_type": "code",
   "execution_count": 344,
   "id": "516ddb4a",
   "metadata": {},
   "outputs": [],
   "source": [
    "# 自定义一个评分器\n",
    "rmsle_scorer = make_scorer(rmsle, greater_is_better=False)\n",
    "\n",
    "rf = RandomForestRegressor(n_estimators=1000, min_samples_split = 11)"
   ]
  },
  {
   "cell_type": "markdown",
   "id": "733d1e15",
   "metadata": {},
   "source": [
    "#### ~~2.1.1 K折交叉验证找参数再训练~~\n",
    "#### 2.1.1 用自己拆的训练集训练并预测"
   ]
  },
  {
   "cell_type": "code",
   "execution_count": 345,
   "id": "e410ee44",
   "metadata": {
    "scrolled": false
   },
   "outputs": [],
   "source": [
    "# 定义交叉验证策略\n",
    "#kf = KFold(n_splits=5, shuffle=True, random_state=229003001)\n",
    "# 使用 cross_val_score 进行交叉验证\n",
    "#scores = cross_val_score(model, X_train, y_train, cv=kf, scoring=make_scorer(rmsle, greater_is_better=False))\n",
    "#best_model.fit(X_train, y_train, cat_features=categorical_features_indices)\n",
    "#y_pred = best_model.predict(X_test)"
   ]
  },
  {
   "cell_type": "markdown",
   "id": "e43008af",
   "metadata": {},
   "source": [
    "先做casual的"
   ]
  },
  {
   "cell_type": "code",
   "execution_count": 346,
   "id": "1e0da66c",
   "metadata": {},
   "outputs": [
    {
     "name": "stdout",
     "output_type": "stream",
     "text": [
      "RMSLE Score (Casual) on Test Set: 0.5815020243597163\n"
     ]
    }
   ],
   "source": [
    "# 训练模型\n",
    "rf.fit(X_train, y_casual_train)\n",
    "# 预测\n",
    "y_casual_pred = rf.predict(X_test)\n",
    "rmsle_score = rmsle(y_casual_test, y_casual_pred)\n",
    "print(\"RMSLE Score (Casual) on Test Set:\", rmsle_score)"
   ]
  },
  {
   "cell_type": "code",
   "execution_count": 347,
   "id": "bbd7032b",
   "metadata": {},
   "outputs": [
    {
     "data": {
      "text/plain": [
       "array([1.59613726, 0.67496292, 0.74712064, ..., 4.30289573, 2.71965659,\n",
       "       2.41010144])"
      ]
     },
     "execution_count": 347,
     "metadata": {},
     "output_type": "execute_result"
    }
   ],
   "source": [
    "y_casual_result = rf.predict(result_features)\n",
    "y_casual_result"
   ]
  },
  {
   "cell_type": "markdown",
   "id": "df16aad1",
   "metadata": {},
   "source": [
    "再做registered的"
   ]
  },
  {
   "cell_type": "code",
   "execution_count": 348,
   "id": "1296796c",
   "metadata": {},
   "outputs": [
    {
     "name": "stdout",
     "output_type": "stream",
     "text": [
      "RMSLE Score (Registered) on Test Set: 0.3571507661534743\n"
     ]
    }
   ],
   "source": [
    "rf.fit(X_train, y_registered_train)\n",
    "y_registered_pred = rf.predict(X_test)\n",
    "rmsle_score_registered = rmsle(y_registered_test, y_registered_pred)\n",
    "print(\"RMSLE Score (Registered) on Test Set:\", rmsle_score_registered)"
   ]
  },
  {
   "cell_type": "code",
   "execution_count": 349,
   "id": "07269f6b",
   "metadata": {},
   "outputs": [
    {
     "data": {
      "text/plain": [
       "array([10.56348365,  4.92515479,  2.05818106, ..., 96.65455136,\n",
       "       82.63013004, 49.66932516])"
      ]
     },
     "execution_count": 349,
     "metadata": {},
     "output_type": "execute_result"
    }
   ],
   "source": [
    "y_registered_result = rf.predict(result_features)\n",
    "y_registered_result"
   ]
  },
  {
   "cell_type": "markdown",
   "id": "a0a3e338",
   "metadata": {},
   "source": [
    "加起来就是我们要的count"
   ]
  },
  {
   "cell_type": "code",
   "execution_count": 350,
   "id": "5e8646c5",
   "metadata": {},
   "outputs": [],
   "source": [
    "y_result = y_casual_result + y_registered_result"
   ]
  },
  {
   "cell_type": "code",
   "execution_count": 351,
   "id": "94b8053b",
   "metadata": {},
   "outputs": [
    {
     "name": "stdout",
     "output_type": "stream",
     "text": [
      "OK\n"
     ]
    }
   ],
   "source": [
    "sampleSubmission['count'] = pd.DataFrame({'count': y_result})\n",
    "sampleSubmission.to_csv(\"sampleSubmission_randomforest_new_new.csv\", index=False)\n",
    "print(\"OK\")"
   ]
  },
  {
   "cell_type": "markdown",
   "id": "6ac0db3d",
   "metadata": {},
   "source": [
    "最终得分0.41多"
   ]
  },
  {
   "cell_type": "markdown",
   "id": "013a9dfb",
   "metadata": {},
   "source": [
    "#### 关于提交\n",
    "不能有负值，日期格式得在excel里改为“yyyy-mm-dd hh:mm:ss”"
   ]
  },
  {
   "cell_type": "code",
   "execution_count": 352,
   "id": "f3868230",
   "metadata": {},
   "outputs": [
    {
     "data": {
      "text/plain": [
       "0.0"
      ]
     },
     "execution_count": 352,
     "metadata": {},
     "output_type": "execute_result"
    }
   ],
   "source": [
    "y_result[y_result<0].sum()"
   ]
  }
 ],
 "metadata": {
  "kernelspec": {
   "display_name": "Python 3 (ipykernel)",
   "language": "python",
   "name": "python3"
  },
  "language_info": {
   "codemirror_mode": {
    "name": "ipython",
    "version": 3
   },
   "file_extension": ".py",
   "mimetype": "text/x-python",
   "name": "python",
   "nbconvert_exporter": "python",
   "pygments_lexer": "ipython3",
   "version": "3.9.12"
  }
 },
 "nbformat": 4,
 "nbformat_minor": 5
}
